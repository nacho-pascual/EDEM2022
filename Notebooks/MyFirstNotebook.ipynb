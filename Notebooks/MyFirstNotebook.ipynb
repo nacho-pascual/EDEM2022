{
  "cells": [
    {
      "cell_type": "code",
      "execution_count": 2,
      "metadata": {
        "colab": {
          "base_uri": "https://localhost:8080/"
        },
        "id": "XfDWq_4BgVwL",
        "outputId": "dbd49231-0c96-43b4-f505-8b23ffa45a4c"
      },
      "outputs": [
        {
          "name": "stdout",
          "output_type": "stream",
          "text": [
            "12\n"
          ]
        }
      ],
      "source": [
        "def suma(x,y):\n",
        "  return x+y\n",
        "print(suma(5,7))"
      ]
    },
    {
      "cell_type": "markdown",
      "metadata": {
        "id": "LQ2VLcjxgaDs"
      },
      "source": [
        "#Seccion1\n"
      ]
    },
    {
      "cell_type": "code",
      "execution_count": 3,
      "metadata": {
        "id": "bFTBTVpkiZs2"
      },
      "outputs": [],
      "source": [
        "a=1"
      ]
    }
  ],
  "metadata": {
    "colab": {
      "provenance": [],
      "toc_visible": true
    },
    "kernelspec": {
      "display_name": "Python 3.8.9 64-bit",
      "language": "python",
      "name": "python3"
    },
    "language_info": {
      "name": "python",
      "version": "3.8.9"
    },
    "vscode": {
      "interpreter": {
        "hash": "31f2aee4e71d21fbe5cf8b01ff0e069b9275f58929596ceb00d14d90e3e16cd6"
      }
    }
  },
  "nbformat": 4,
  "nbformat_minor": 0
}
