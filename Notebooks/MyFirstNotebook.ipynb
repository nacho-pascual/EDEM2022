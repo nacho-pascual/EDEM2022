{
  "nbformat": 4,
  "nbformat_minor": 0,
  "metadata": {
    "colab": {
      "provenance": [],
      "toc_visible": true
    },
    "kernelspec": {
      "name": "python3",
      "display_name": "Python 3"
    },
    "language_info": {
      "name": "python"
    }
  },
  "cells": [
    {
      "cell_type": "code",
      "execution_count": 2,
      "metadata": {
        "colab": {
          "base_uri": "https://localhost:8080/"
        },
        "id": "XfDWq_4BgVwL",
        "outputId": "dbd49231-0c96-43b4-f505-8b23ffa45a4c"
      },
      "outputs": [
        {
          "output_type": "stream",
          "name": "stdout",
          "text": [
            "12\n"
          ]
        }
      ],
      "source": [
        "def suma(x,y):\n",
        "  return x+y\n",
        "print(suma(5,7))"
      ]
    },
    {
      "cell_type": "markdown",
      "source": [
        "#Seccion1\n"
      ],
      "metadata": {
        "id": "LQ2VLcjxgaDs"
      }
    },
    {
      "cell_type": "code",
      "source": [
        "a=1"
      ],
      "metadata": {
        "id": "bFTBTVpkiZs2"
      },
      "execution_count": 3,
      "outputs": []
    }
  ]
}