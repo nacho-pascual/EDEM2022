{
  "cells": [
    {
      "cell_type": "code",
      "execution_count": 1,
      "metadata": {
        "colab": {
          "base_uri": "https://localhost:8080/"
        },
        "id": "5ZA8fCx_g2qH",
        "outputId": "d4e832a7-26bf-4238-9927-634b558b0161"
      },
      "outputs": [
        {
          "name": "stdout",
          "output_type": "stream",
          "text": [
            "16\n"
          ]
        }
      ],
      "source": [
        "def suma(a,b):\n",
        "  return a+b\n",
        "\n",
        "print(suma(9,7))"
      ]
    },
    {
      "cell_type": "markdown",
      "metadata": {
        "id": "erQjUOOkiMI8"
      },
      "source": [
        "#Section1"
      ]
    },
    {
      "cell_type": "code",
      "execution_count": 2,
      "metadata": {
        "id": "JtgEmREuib7W"
      },
      "outputs": [],
      "source": [
        "a=1\n",
        "b=3\n",
        "\n",
        "print('Te quiero Paquito Navarro, y Martín, saca un poco más el inflador')"
      ]
    }
  ],
  "metadata": {
    "colab": {
      "provenance": []
    },
    "kernelspec": {
      "display_name": "Python 3",
      "name": "python3"
    },
    "language_info": {
      "name": "python"
    }
  },
  "nbformat": 4,
  "nbformat_minor": 0
}
